{
 "cells": [
  {
   "cell_type": "code",
   "execution_count": null,
   "metadata": {},
   "outputs": [],
   "source": [
    "from os import listdir\n",
    "from matplotlib import image\n",
    "import numpy as np\n",
    "from scipy import ndimage, misc\n",
    "\n",
    "# load all images in a directory\n",
    "loaded_images = list()\n",
    "loaded_y = list()\n",
    "X_test = list()\n",
    "img_size =64\n",
    "for folder in listdir('data/kaggle_train_128/train_128/'):\n",
    "    clas = ('data/kaggle_train_128/train_128/'+ folder+'/')\n",
    "    value = int(folder)\n",
    "    print(\"Loading Data of Class {}\".format(value))\n",
    "    for filename in listdir(clas):\n",
    "        img_data = cv2.resize(image.imread(clas + filename), (img_size, img_size),interpolation = cv2.INTER_AREA)\n",
    "        #img_data = misc.imresize(img_data, (64, 64))\n",
    "        loaded_images.append(img_data)\n",
    "        loaded_y.append(value)\n",
    "print(\"Data Loaded\")\n",
    "X_train=np.asarray(loaded_images)\n",
    "y_train = np.asarray(loaded_y)\n",
    "print(y_train[2990:3010])\n",
    "print(\"shuffling..\")\n",
    "#seq = np.arange(len(y_train))\n",
    "#np.random.shuffle(seq)\n",
    "#X_train, y_train = X_train[seq], y_train[seq]\n",
    "print(\"shuffling done...\")\n",
    "for filename in listdir('data/kaggle_test_128/test_128/'):\n",
    "        img_data = cv2.resize(image.imread('data/kaggle_test_128/test_128/' + filename), (img_size, img_size),interpolation = cv2.INTER_AREA)\n",
    "        X_test.append(img_data)\n",
    "X_test = np.asarray(X_test)\n",
    "X_val, y_val = X_train[-500:-1] , y_train[-500:-1]\n",
    "X_train, y_train = X_train[:-500] , y_train[:-500]\n",
    "print(\"All data Loaded..\")"
   ]
  }
 ],
 "metadata": {
  "kernelspec": {
   "display_name": "Python 3",
   "language": "python",
   "name": "python3"
  },
  "language_info": {
   "codemirror_mode": {
    "name": "ipython",
    "version": 3
   },
   "file_extension": ".py",
   "mimetype": "text/x-python",
   "name": "python",
   "nbconvert_exporter": "python",
   "pygments_lexer": "ipython3",
   "version": "3.6.9"
  }
 },
 "nbformat": 4,
 "nbformat_minor": 2
}
